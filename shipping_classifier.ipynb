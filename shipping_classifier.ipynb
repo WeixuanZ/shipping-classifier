{
  "nbformat": 4,
  "nbformat_minor": 0,
  "metadata": {
    "colab": {
      "name": "shipping-classifier",
      "provenance": [],
      "collapsed_sections": [],
      "authorship_tag": "ABX9TyOaNaHQSak05PBvg8teBA+R",
      "include_colab_link": true
    },
    "kernelspec": {
      "name": "python3",
      "display_name": "Python 3"
    },
    "accelerator": "GPU"
  },
  "cells": [
    {
      "cell_type": "markdown",
      "metadata": {
        "id": "view-in-github",
        "colab_type": "text"
      },
      "source": [
        "<a href=\"https://colab.research.google.com/github/WeixuanZ/shipping-classifier/blob/master/shipping_classifier.ipynb\" target=\"_parent\"><img src=\"https://colab.research.google.com/assets/colab-badge.svg\" alt=\"Open In Colab\"/></a>"
      ]
    },
    {
      "cell_type": "code",
      "metadata": {
        "id": "JArInKUW0LYQ",
        "colab_type": "code",
        "colab": {}
      },
      "source": [
        "import tensorflow as tf\n",
        "device_name = tf.test.gpu_device_name()\n",
        "if device_name != '/device:GPU:0':\n",
        "  raise SystemError('GPU device not found')\n",
        "print('Found GPU at: {}'.format(device_name))"
      ],
      "execution_count": 0,
      "outputs": []
    },
    {
      "cell_type": "code",
      "metadata": {
        "id": "g4K10eMXnH0q",
        "colab_type": "code",
        "colab": {}
      },
      "source": [
        "!test -d bert || git clone https://github.com/google-research/bert bert\n",
        "!test -d shipping-classifier || git clone https://github.com/WeixuanZ/shipping-classifier.git\n",
        "\n",
        "!cd bert && test -d dataset || mkdir dataset\n",
        "!cd bert && test -d model || mkdir model\n",
        "!cd bert && test -d bert_output || mkdir bert_output\n",
        "!cd bert/model && test -f bert_config.json || (wget https://storage.googleapis.com/bert_models/2018_10_18/uncased_L-12_H-768_A-12.zip && unzip *.zip && mv uncased_L-12_H-768_A-12/* . && rm -rf uncased_L-12_H-768_A-12.zip uncased_L-12_H-768_A-12)\n",
        "# !cd bert/model && rm -f * && test -f bert_config.json || (wget https://storage.googleapis.com/bert_models/2019_05_30/wwm_uncased_L-24_H-1024_A-16.zip && unzip *.zip && mv wwm_uncased_L-24_H-1024_A-16/* . && rm -rf wwm_uncased_L-24_H-1024_A-16.zip wwm_uncased_L-24_H-1024_A-16)\n"
      ],
      "execution_count": 0,
      "outputs": []
    },
    {
      "cell_type": "code",
      "metadata": {
        "id": "rSkBzIVGILZn",
        "colab_type": "code",
        "colab": {}
      },
      "source": [
        "!cd bert && rm run_classifier.py && cp ../shipping-classifier/bert/run_classifier.py .\n",
        "!cd bert/dataset && cp -r ../../shipping-classifier/bert/dataset/* ."
      ],
      "execution_count": 0,
      "outputs": []
    },
    {
      "cell_type": "code",
      "metadata": {
        "id": "ROhuFrrTM-W3",
        "colab_type": "code",
        "colab": {}
      },
      "source": [
        "!rm -rf ./bert/bert_output/ && mkdir ./bert/bert_output/"
      ],
      "execution_count": 0,
      "outputs": []
    },
    {
      "cell_type": "code",
      "metadata": {
        "id": "EoByGIKwssL5",
        "colab_type": "code",
        "colab": {}
      },
      "source": [
        "!cd ./bert && python3 run_classifier.py --task_name=cola --do_train=true --do_eval=true --data_dir=./dataset --vocab_file=./model/vocab.txt --bert_config_file=./model/bert_config.json --init_checkpoint=./model/bert_model.ckpt --max_seq_length=64 --train_batch_size=4 --learning_rate=3e-5 --num_train_epochs=3.0 --output_dir=./bert_output/ --do_lower_case=true --save_checkpoints_steps 2000"
      ],
      "execution_count": 0,
      "outputs": []
    },
    {
      "cell_type": "code",
      "metadata": {
        "id": "p92Mpu34JxVy",
        "colab_type": "code",
        "colab": {}
      },
      "source": [
        "import argparse\n",
        "import os\n",
        "import uuid\n",
        "\n",
        "import pandas as pd\n",
        "\n",
        "# text = ['plague inc', 'arm', 'autodesk ltd', 'apple', 'samsung', 'tianjin']\n",
        "text = []\n",
        "\n",
        "def test():\n",
        "    !cd ./bert && python3 run_classifier.py --task_name=cola --do_predict=true --data_dir=./dataset --vocab_file=./model/vocab.txt --bert_config_file=./model/bert_config.json --init_checkpoint=./bert_output/model.ckpt-1525 --max_seq_length=64 --output_dir=./bert_output/\n",
        "\n",
        "    df_test = pd.read_csv('./bert/dataset/test.tsv', sep='\\t')\n",
        "    df_test_with_label = pd.read_csv('./bert/dataset/test_with_label.tsv', sep='\\t')\n",
        "\n",
        "    df_result = pd.read_csv('./bert/bert_output/test_results.tsv', sep='\\t', header=None)\n",
        "\n",
        "    df_map_result = pd.DataFrame({\n",
        "        'text': df_test['text'],\n",
        "        'label': df_test_with_label['label'],\n",
        "        'prediction': [['port', 'date', 'vessel', 'company'][i] for i in df_result.idxmax(axis=1)]\n",
        "    })\n",
        "\n",
        "    print(df_map_result)\n",
        "\n",
        "\n",
        "if len(text) == 0:\n",
        "    test()\n",
        "else:\n",
        "    try:\n",
        "        os.makedirs('./bert/cache')\n",
        "    except FileExistsError:\n",
        "        pass\n",
        "    identifier = []\n",
        "    for i in text:\n",
        "        identifier.append(uuid.uuid4())\n",
        "    df = pd.DataFrame({'guid': identifier, 'text': text})\n",
        "    df.to_csv('./bert/cache/test.tsv', sep='\\t', index=False, header=True)\n",
        "\n",
        "    !cd ./bert && python3 run_classifier.py --task_name=cola --do_predict=true --data_dir=./cache --vocab_file=./model/vocab.txt --bert_config_file=./model/bert_config.json --init_checkpoint=./bert_output/model.ckpt-1525 --max_seq_length=64 --output_dir=./cache/\n",
        "    df_result = pd.read_csv('./bert/cache/test_results.tsv', sep='\\t', header=None)\n",
        "    df_map_result = pd.DataFrame({\n",
        "        'text': df['text'],\n",
        "        'prediction': [['port', 'date', 'vessel', 'company'][i] for i in df_result.idxmax(axis=1)]\n",
        "    })\n",
        "    print(df_map_result)"
      ],
      "execution_count": 0,
      "outputs": []
    }
  ]
}